{
 "cells": [
  {
   "cell_type": "markdown",
   "id": "5cb6a8d4",
   "metadata": {},
   "source": [
    "# Voyageur de commerce\n",
    "Résoudre un problème d’optimisation simplifié inspiré du Voyageur de Commerce (TSP). On vous fournit une liste de villes sous forme de nœuds avec leurs coordonnées (x,y), et vous devez :\n",
    "\n",
    "- Charger et représenter les données\n",
    "\n",
    "- Calcul des distances\n",
    "    - implémenter un calcul de distance Euclidienne entre deux villes.\n",
    "\n",
    "- Heuristique simple pour le Voyageur de Commerce\n",
    "    - Le but ici n’est pas de résoudre parfaitement le TSP, mais de proposer une heuristique simple : partir de la première ville de la liste, puis à chaque étape, aller à la ville la plus proche non encore visitée. Continuer jusqu’à avoir visité toutes les villes.\n",
    "\n",
    "- Calcul de la distance totale de la tournée\n",
    "    - Une fois que vous avez l’itinéraire, vous devez calculer la distance totale parcourue.\n",
    "    \n",
    "- Affichage et analyse\n",
    "    - Afficher un récapitulatif : nombre total de villes, itinéraire trouvé, distance totale.\n",
    "    - Discuter brièvement (en commentaire dans le code) des limites de cette approche heuristique. Par exemple : pourquoi n’est-elle pas optimale ? Quels sont les problèmes éventuels de cette méthode sur un plus grand ensemble de villes ?"
   ]
  },
  {
   "cell_type": "markdown",
   "id": "4d9c8a72",
   "metadata": {},
   "source": [
    "## 1. Charger et représenter les données\n",
    "- Écrire une fonction `charger_villes(chemin)` qui prend en paramètre le chemin du fichier (ex : “villes.txt”) et retourne une liste de tuples (NomVille, X, Y).\n",
    "- Afficher la liste des villes chargées ainsi que leur nombre total."
   ]
  },
  {
   "cell_type": "code",
   "execution_count": 23,
   "id": "67a6d70f",
   "metadata": {},
   "outputs": [
    {
     "name": "stdout",
     "output_type": "stream",
     "text": [
      "[('Paris', 48.8567, 2.3522), ('Bordeaux', 44.84, -0.58), ('Marseille', 43.2964, 5.37), ('Lyon', 45.76, 4.84), ('Toulouse', 43.6045, 1.444)]\n",
      "nombre de villes chargées: 576\n"
     ]
    }
   ],
   "source": [
    "def charger_villes(fichier):\n",
    "    \"\"\"Lit un fichier texte contenant des noms de villes et retourne une liste de tuples (NomVille, X, Y)\n",
    "\n",
    "    Chaque ligne du fichier doit contenir le nom d'une ville.\n",
    "\n",
    "    Args:\n",
    "        fichier (str): Le chemin vers le fichier texte.\n",
    "\n",
    "    Returns:\n",
    "        list: Une liste de tuples (NomVille, X, Y).\n",
    "    \"\"\"\n",
    "    villes = []\n",
    "    with open(fichier, 'r') as f:\n",
    "        for ligne in f:\n",
    "            ligne = ligne.split(' ')\n",
    "            if len(ligne) == 3:\n",
    "                nom_ville, x, y = ligne\n",
    "                villes.append((nom_ville, float(x), float(y)))\n",
    "    return villes\n",
    "\n",
    "villes =  charger_villes('villes.txt')\n",
    "print(villes[:5]) # Affiche les 5 premières villes pour vérification\n",
    "print(f\"nombre de villes chargées: {len(villes)}\")"
   ]
  },
  {
   "cell_type": "markdown",
   "id": "583402da",
   "metadata": {},
   "source": [
    "## 2. Calcul des distances\n",
    "- Écrire une fonction `distance(villeA, villeB)` qui, étant donné deux tuples (NomVille, X, Y), retourne la distance Euclidienne entre elles.\n",
    "- Tester votre fonction en affichant la distance entre au moins 2 paires de villes de votre liste.\n"
   ]
  },
  {
   "cell_type": "code",
   "execution_count": 24,
   "id": "ec9f8122",
   "metadata": {},
   "outputs": [
    {
     "name": "stdout",
     "output_type": "stream",
     "text": [
      "Distance entre Paris et Bordeaux: 4.973095186098889\n"
     ]
    }
   ],
   "source": [
    "def distance(villeA, villeB):\n",
    "    \"\"\"Calcule la distance Euclidienne entre deux villes.\n",
    "\n",
    "    Args:\n",
    "        villeA (tuple): Un tuple (NomVille, X, Y) représentant la première ville.\n",
    "        villeB (tuple): Un tuple (NomVille, X, Y) représentant la deuxième ville.\n",
    "\n",
    "    Returns:\n",
    "        float: La distance Euclidienne entre les deux villes.\n",
    "    \"\"\"\n",
    "    x1, y1 = villeA[1], villeA[2]\n",
    "    x2, y2 = villeB[1], villeB[2]\n",
    "    return ((x2 - x1)**2 + (y2 - y1)**2)**0.5\n",
    "\n",
    "print(f\"Distance entre {villes[0][0]} et {villes[1][0]}: {distance(villes[0], villes[1])}\")"
   ]
  },
  {
   "cell_type": "markdown",
   "id": "abecb108",
   "metadata": {},
   "source": [
    "## 3. Heuristique simple pour le voyageur de commerce\n",
    "- Écrire une fonction `itineraire_greedy(villes)` qui, donnée la liste de villes, retourne une liste représentant l’ordre des visites de ces villes selon l’heuristique décrite (une liste de tuples ou de noms de villes).\n",
    "- Afficher l’ordre proposé par l’algorithme."
   ]
  },
  {
   "cell_type": "code",
   "execution_count": 25,
   "id": "286b92e0",
   "metadata": {},
   "outputs": [
    {
     "name": "stdout",
     "output_type": "stream",
     "text": [
      "Ordre des visites proposé par l'algorithme: ['Paris', 'Bellevue', 'Pantin', 'Aubervilliers', 'Saint-Denis', 'L’Île-Saint-Denis', 'Villeneuve-la-Garenne', 'Saint-Ouen', 'Clichy', 'Carrières-sur-Seine', 'Levallois-Perret', 'Neuilly-sur-Seine', 'Courbevoic', 'Puteaux', 'Suresnes', 'Saint-Cloud', 'Sèvres', 'Ville-d’Avray', 'Chaville', 'Viroflay', 'Vélizy-Villacoublay', 'Versailles', 'Vaucresson', 'Garches', 'Rueil-Malmaison', 'Chatou', 'Croissy-sur-Seine', 'Bougival', 'Marly-le-Roi', 'Mareil-Marly', 'Poissy', 'Carrières-sous-Poissy', 'Achères', 'Andrésy', 'Chanteloup-les-Vignes', 'Jouy-le-Moutier', 'Vauréal', 'Cergy', 'Éragny', 'Conflans-Sainte-Honorine', 'Saint-Ouen-l’Aumône', 'Pontoise', 'Beauchamp', 'Montigny-lès-Cormeilles', 'Cormeilles-en-Parisis', 'Franconville', 'Ermont', 'Sannois', 'Argenteuil', 'Colombes', 'Bois-Colombes', 'Gennevilliers', 'Épinay-sur-Seine', 'Enghien-les-Bains', 'Soisy-sous-Montmorency', 'Eaubonne', 'Saint-Gratien', 'Montmorency', 'Deuil-la-Barre', 'Montmagny', 'Groslay', 'Saint-Brice-sous-Forêt', 'Sarcelles', 'Villiers-le-Bel', 'Arnouville-lès-Gonesse', 'Garges-lès-Gonesse', 'Dugny', 'Stains', 'Pierrefitte-sur-Seine', 'Ézanville', 'Domont', 'Bouffémont', 'Saint-Leu-la-Forêt', 'Taverny', 'Bezons', 'Houilles', 'Sartrouville', 'Maisons-Laffitte', 'Montesson', 'Nanterre', 'Boulogne-Billancourt', 'Meudon', 'Clamart', 'Issy-les-Moulineaux', 'Vanves', 'Malakoff', 'Châtillon', 'Fontenay-aux-Roses', 'Sceaux', 'Châtenay-Malabry', 'Verrières-le-Buisson', 'Massy', 'Palaiseau', 'Igny', 'Orsay', 'Bures-sur-Yvette', 'Guyancourt', 'Voisins-le-Bretonneux', 'Montigny-le-Bretonneux', 'Bois-d’Arcy', 'Fontenay-le-Fleury', 'Saint-Cyr-l’École', 'Trappes', 'Élancourt', 'Maurepas', 'Plaisir', 'Neauphle-le-Château', 'Vernouillet', 'Verneuil-sur-Seine', 'Menucourt', 'Limay', 'Mantes-la-Jolie', 'Mantes-la-Ville', 'Magnanville', 'Évreux', 'Caudebec-lès-Elbeuf', 'Saint-Aubin-lès-Elbeuf', 'Saint-Étienne-du-Rouvray', 'Sotteville-lès-Rouen', 'Rouen', 'Mont-Saint-Aignan', 'Bois-Guillaume', 'Bihorel', 'Bonsecours', 'Darnétal', 'Déville-lès-Rouen', 'Maromme', 'Yvetot', 'Dieppe', 'Neuville-lès-Dieppe', 'Outreau', 'Boulogne-sur-Mer', 'Calais', 'Grand-Fort-Philippe', 'Fort-Mardyck', 'Saint-Pol-sur-Mer', 'Petite-Synthe', 'Cappelle-la-Grande', 'Coudekerque-Branche', 'Dunkerque', 'Rosendaël', 'Bergues', 'Auchel', 'Béthune', 'Bully-les-Mines', 'Grenay', 'Liévin', 'Éleu-dit-Leauwette', 'Lens', 'Loison-sous-Lens', 'Sallaumines', 'Noyelles-sous-Lens', 'Méricourt', 'Fouquières-lès-Lens', 'Montigny-en-Gohelle', 'Billy-Montigny', 'Pont-à-Vendin', 'Wingles', 'Oignies', 'Courcelles-les-Lens', 'Douai', 'Waziers', 'Courchelettes', 'Aniche', 'Lourches', 'Denain', 'Anzin', 'Beuvrages', 'Valenciennes', 'Marly', 'Bruay-sur-l’Escaut', 'Cambrai', 'Neuville-Saint-Rémy', 'Saint-Quentin', 'Soissons', 'Crégy-lès-Meaux', 'Meaux', 'Esbly', 'Magny-le-Hongre', 'Serris', 'Montévrain', 'Thorigny-sur-Marne', 'Bussy-Saint-Georges', 'Torcy', 'Vaires-sur-Marne', 'Noisiel', 'Lognes', 'Champs-Sur-Marne', 'Gournay-sur-Marne', 'Noisy-le-Grand', 'Neuilly-sur-Marne', 'Villiers-sur-Marne', 'Bry-sur-Marne', 'Champigny-sur-Marne', 'Saint-Maur-des-Fossés', 'Bonneuil-sur-Marne', 'Limeil-Brévannes', 'Valenton', 'Villeneuve-Saint-Georges', 'Crosne', 'Montgeron', 'Yerres', 'Brunoy', 'Épinay-sous-Sénart', 'Boussy-Saint-Antoine', 'Mandres-les-Roses', 'Villecresnes', 'Boissy-Saint-Léger', 'Sucy-en-Brie', 'Ormesson-sur-Marne', 'Chennevières-sur-Marne', 'Nogent-sur-Marne', 'Fontenay-sous-Bois', 'Rosny-sous-Bois', 'Villemomble', 'Neuilly-Plaisance', 'Gagny', 'Clichy-sous-Bois', 'Montfermeil', 'Vaujours', 'Sevran', 'Livry-Gargan', 'Villepinte', 'Aulnay-sous-Bois', 'Bondy', 'Noisy-le-Sec', 'Romainville', 'Bagnolet', 'Montreuil', 'Vincennes', 'Saint-Mandé', 'Charenton-le-Pont', 'Alfortville', 'Maisons-Alfort', 'Saint-Maurice', 'Joinville-le-Pont', 'Créteil', 'Choisy-le-Roi', 'Thiais', 'Orly', 'Villeneuve-le-Roi', 'Ablon-sur-Seine', 'Vigneux-sur-Seine', 'Draveil', 'Athis-Mons', 'Juvisy-sur-Orge', 'Viry-Châtillon', 'Grigny', 'Ris-Orangis', 'Courcouronnes', 'Évry', 'Bondoufle', 'Fleury-Mérogis', 'Sainte-Geneviève-des-Bois', 'Morsang-sur-Orge', 'Villemoisson-sur-Orge', 'Épinay-sur-Orge', 'Savigny-sur-Orge', 'Morangis', 'Chilly-Mazarin', 'Longjumeau', 'Villiers-sur-Orge', 'Saint-Michel-sur-Orge', 'Brétigny-sur-Orge', 'Leuville-sur-Orge', 'Montlhéry', 'Saint-Germain-lès-Arpajon', 'Arpajon', 'Égly', 'Antony', 'Fresnes', 'Bourg-la-Reine', 'Bagneux', 'Cachan', 'L’Haÿ-les-Roses', 'Chevilly-Larue', 'Villejuif', 'Ivry-sur-Seine', 'Vitry-sur-Seine', 'Gentilly', 'Arcueil', 'Montrouge', 'Bobigny', 'Drancy', 'Goussainville', 'Fosses', 'Creil', 'Nogent-sur-Oise', 'Liancourt', 'Clermont', 'Persan', 'Beaumont-sur-Oise', 'Beauvais', 'Amiens', 'Longueau', 'Arras', 'Saint-Nicolas', 'Haubourdin', 'Loos', 'Lomme', 'Lambersart', 'Saint-André', 'Marquette-lès-Lille', 'Marcq-en-Baroeul', 'Wasquehal', 'Croix', 'Mouvaux', 'Tourcoing', 'Neuville-en-Ferrain', 'Halluin', 'Roubaix', 'Hem', 'Lys-lès-Lannoy', 'Toufflers', 'Leers', 'Wattrelos', 'Ascq', 'Flers-lez-Lille', 'Mons-en-Baroeul', 'Hellemmes-Lille', 'Ronchin', 'Fâches-Thumesnil', 'Lille', 'Wattignies', 'Pérenchies', 'Armentières', 'Maubeuge', 'Avesnes-sur-Helpe', 'Charleville-Mézières', 'Reims', 'Tinqueux', 'Châlons-en-Champagne', 'Vitry-le-François', 'Troyes', 'Saint-André-les-Vergers', 'Montereau-faut-Yonne', 'Saint-Mammès', 'Avon', 'Dammarie-lè-Lys', 'Melun', 'Cesson', 'Savigny-le-Temple', 'Combs-la-Ville', 'Quincy-sous-Sénart', 'Saint-Germain-lès-Corbeil', 'Corbeil-Essonnes', 'Saintry-sur-Seine', 'Roissy-en-Brie', 'Chelles', 'Courtry', 'Villeparisis', 'Montargis', 'Saint-Jean-de-Braye', 'Fleury-les-Aubrais', 'Orléans', 'Saint-Jean-de-la-Ruelle', 'Luisant', 'Lucé', 'Chartres', 'Tours', 'Coulaines', 'Alençon', 'Lisieux', 'Harfleur', 'Rouelles', 'Sainte-Adresse', 'Hérouville-Saint-Clair', 'Caen', 'Bayeux', 'Avranches', 'Fougères', 'Laval', 'Angers', 'Montaigu', 'Saint-Sébastien-sur-Loire', 'Nantes', 'Rezé', 'Saint-Herblain', 'Paimbœuf', 'Saint-Nazaire', 'Vannes', 'Auray', 'Port-Louis', 'Lorient', 'Guingamp', 'Saint-Brieuc', 'Dinan', 'Rennes', 'Octeville', 'Cherbourg', 'Brest', 'Arcachon', 'Mérignac', 'Pessac', 'Gradignan', 'Talence', 'Villenave-d’Ornon', 'Bègles', 'Floirac', 'Cenon', 'Lormont', 'Carbon-Blanc', 'Bordeaux', 'Eysines', 'Sainte-Foy-la-Grande', 'Périgueux', 'Angoulême', 'Poitiers', 'Limoges', 'Châteauroux', 'Montluçon', 'Chamalières', 'Clermont-Ferrand', 'Beaumont', 'Vichy', 'Moulins', 'Nevers', 'Roanne', 'L’Arbresle', 'Craponne', 'Francheville', 'Tassin-la-Demi-Lune', 'Écully', 'Champagne-au-Mont-d’Or', 'Caluire-et-Cuire', 'Lyon', 'Villeurbanne', 'Vaulx-en-Velin', 'Bron', 'Vénissieux', 'Saint-Fons', 'Pierre-Bénite', 'Oullins', 'Sainte-Foy-lès-Lyon', 'Saint-Genis-Laval', 'Grigny', 'Saint-Priest', 'Décines-Charpieu', 'Meyzieu', 'Rillieux-la-Pape', 'Sathonay-Camp', 'Fontaines-sur-Saône', 'Villefranche-sur-Saône', 'Rive-de-Gier', 'Terrenoire', 'Saint-Étienne', 'Saint-Priest-en-Jarez', 'Firminy', 'Valence', 'Villefontaine', 'L’Isle-d’Abeau', 'Pont-de-Chéruy', 'Bourg-en-Bresse', 'Lons-le-Saunier', 'Saint-Genis-Pouilly', 'Ferney-Voltaire', 'Saint-Julien-en-Genevois', 'Gaillard', 'Ambilly', 'Annemasse', 'Ville-la-Grand', 'Thonon-les-Bains', 'Évian-les-Bains', 'Cluses', 'Annecy', 'Cran-Gévrier', 'Meythet', 'Aix-les-Bains', 'Bassens', 'Chambéry', 'Jacob-Bellecombette', 'Cognin', 'Barby', 'Meylan', 'Saint-Martin-d’Hères', 'Eybens', 'Échirolles', 'Grenoble', 'Fontaine', 'Saint-Égrève', 'Aix-en-Provence', 'Marseille', 'Carnoux-en-Provence', 'Toulon', 'Cannes', 'Vallauris', 'Antibes', 'Cagnes-sur-Mer', 'Saint-Laurent-du-Var', 'Nice', 'Saint-André-de-la-Roche', 'Beaulieu-sur-Mer', 'Cap-d’Ail', 'Beausoleil', 'Menton', 'Ajaccio', 'Bastia', 'Nîmes', 'Alès', 'Jacou', 'Castelnau-le-Lez', 'Montpellier', 'Pérols', 'Palavas-les-Flots', 'Sète', 'Valras-Plage', 'Perpignan', 'Castanet-Tolosan', 'Ramonville-Saint-Agne', 'Toulouse', 'Blagnac', 'Beauzelle', 'Saint-Alban', 'Aucamville', 'L’Union', 'Saint-Jean', 'Colomiers', 'Tournefeuille', 'Cugnaux', 'Villeneuve-Tolosane', 'Agen', 'Tarbes', 'Pau', 'Billère', 'Bayonne', 'Boucau', 'Anglet', 'Biarritz', 'Hendaye', 'Rodez', 'Chalon-sur-Saône', 'Chenôve', 'Dijon', 'Talant', 'Fontaine-lès-Dijon', 'Besançon', 'Vesoul', 'Montbéliard', 'Sochaux', 'Audincourt', 'Belfort', 'Pfastatt', 'Mulhouse', 'Riedisheim', 'Illzach', 'Kingersheim', 'Huningue', 'Ostwald', 'Lingolsheim', 'Oberhausbergen', 'Souffelweyersheim', 'Hœnheim', 'Bischheim', 'Schiltigheim', 'Strasbourg', 'Stiring-Wendel', 'Talange', 'Hagondange', 'Terville', 'Nilvange', 'Jœuf', 'Longeville-lès-Metz', 'Montigny-lès-Metz', 'Metz', 'Maxéville', 'Nancy', 'Saint-Max', 'Essey-lès-Nancy', 'Tomblaine', 'Jarville-la-Malgrange', 'Heillecourt', 'Vandœuvre-lès-Nancy', 'Villers-lès-Nancy', 'Neuves-Maisons', 'Villerupt', 'Longwy']\n"
     ]
    }
   ],
   "source": [
    "def itineraire_greedy(villes):\n",
    "    \"\"\"Calcule un itinéraire pour le voyageur de commerce en utilisant une heuristique simple.\n",
    "\n",
    "    Args:\n",
    "        villes (list): Une liste de tuples (NomVille, X, Y).\n",
    "\n",
    "    Returns:\n",
    "        list: Une liste représentant l'ordre des visites des villes.\n",
    "    \"\"\"\n",
    "    if not villes:\n",
    "        return []\n",
    "\n",
    "    non_visitees = villes[:]\n",
    "    itineraire = [non_visitees.pop(0)]  # Commence par la première ville\n",
    "\n",
    "    while non_visitees:\n",
    "        derniere_ville = itineraire[-1]\n",
    "        prochaine_ville = min(non_visitees, key=lambda ville: distance(derniere_ville, ville))\n",
    "        itineraire.append(prochaine_ville)\n",
    "        non_visitees.remove(prochaine_ville)\n",
    "\n",
    "    return itineraire\n",
    "\n",
    "villes_itineraire = itineraire_greedy(villes)\n",
    "print(f\"Ordre des visites proposé par l'algorithme: {[ville[0] for ville in villes_itineraire]}\")\n"
   ]
  },
  {
   "cell_type": "markdown",
   "id": "259d9dca",
   "metadata": {},
   "source": [
    "## 4. Calcul de la distance totale de la tournée\n",
    "\n",
    "- Écrire une fonction `distance_totale(itineraire)` qui calcule la somme des distances entre chaque ville dans l’ordre donné par l’itinéraire, en considérant que l’on ne revient pas à la ville de départ.\n",
    "- Afficher la distance totale de la tournée retournée par votre heuristique."
   ]
  },
  {
   "cell_type": "code",
   "execution_count": 26,
   "id": "f4a6c55f",
   "metadata": {},
   "outputs": [
    {
     "name": "stdout",
     "output_type": "stream",
     "text": [
      "Distance totale de la tournée: 108.6 km\n"
     ]
    }
   ],
   "source": [
    "def distance_totale(itineraire):\n",
    "    \"\"\"Calcule la distance totale de l'itinéraire.\n",
    "\n",
    "    Args:\n",
    "        itineraire (list): Une liste représentant l'ordre des visites des villes.\n",
    "\n",
    "    Returns:\n",
    "        float: La distance totale de l'itinéraire.\n",
    "    \"\"\"\n",
    "    total = 0.0\n",
    "    for i in range(len(itineraire) - 1):\n",
    "        total += distance(itineraire[i], itineraire[i + 1])\n",
    "    return total\n",
    "\n",
    "print(f\"Distance totale de la tournée: {round(distance_totale(villes_itineraire),1)} km\")"
   ]
  },
  {
   "cell_type": "markdown",
   "id": "00851264",
   "metadata": {},
   "source": [
    "## 5. Affichage et analyse\n",
    "\n",
    "- Afficher un récapitulatif : nombre total de villes, itinéraire trouvé, distance totale.\n",
    "- Discuter brièvement (en commentaire dans le code) des limites de cette approche heuristique. Par exemple : pourquoi n’est-elle pas optimale ? Quels sont les problèmes éventuels de cette méthode sur un plus grand ensemble de villes ?"
   ]
  },
  {
   "cell_type": "code",
   "execution_count": 27,
   "id": "2f1c3c73",
   "metadata": {},
   "outputs": [
    {
     "name": "stdout",
     "output_type": "stream",
     "text": [
      "Nombre total de villes: 576\n",
      "Itinéraire trouvé: ['Paris', 'Bellevue', 'Pantin', 'Aubervilliers', 'Saint-Denis', 'L’Île-Saint-Denis', 'Villeneuve-la-Garenne', 'Saint-Ouen', 'Clichy', 'Carrières-sur-Seine', 'Levallois-Perret', 'Neuilly-sur-Seine', 'Courbevoic', 'Puteaux', 'Suresnes', 'Saint-Cloud', 'Sèvres', 'Ville-d’Avray', 'Chaville', 'Viroflay', 'Vélizy-Villacoublay', 'Versailles', 'Vaucresson', 'Garches', 'Rueil-Malmaison', 'Chatou', 'Croissy-sur-Seine', 'Bougival', 'Marly-le-Roi', 'Mareil-Marly', 'Poissy', 'Carrières-sous-Poissy', 'Achères', 'Andrésy', 'Chanteloup-les-Vignes', 'Jouy-le-Moutier', 'Vauréal', 'Cergy', 'Éragny', 'Conflans-Sainte-Honorine', 'Saint-Ouen-l’Aumône', 'Pontoise', 'Beauchamp', 'Montigny-lès-Cormeilles', 'Cormeilles-en-Parisis', 'Franconville', 'Ermont', 'Sannois', 'Argenteuil', 'Colombes', 'Bois-Colombes', 'Gennevilliers', 'Épinay-sur-Seine', 'Enghien-les-Bains', 'Soisy-sous-Montmorency', 'Eaubonne', 'Saint-Gratien', 'Montmorency', 'Deuil-la-Barre', 'Montmagny', 'Groslay', 'Saint-Brice-sous-Forêt', 'Sarcelles', 'Villiers-le-Bel', 'Arnouville-lès-Gonesse', 'Garges-lès-Gonesse', 'Dugny', 'Stains', 'Pierrefitte-sur-Seine', 'Ézanville', 'Domont', 'Bouffémont', 'Saint-Leu-la-Forêt', 'Taverny', 'Bezons', 'Houilles', 'Sartrouville', 'Maisons-Laffitte', 'Montesson', 'Nanterre', 'Boulogne-Billancourt', 'Meudon', 'Clamart', 'Issy-les-Moulineaux', 'Vanves', 'Malakoff', 'Châtillon', 'Fontenay-aux-Roses', 'Sceaux', 'Châtenay-Malabry', 'Verrières-le-Buisson', 'Massy', 'Palaiseau', 'Igny', 'Orsay', 'Bures-sur-Yvette', 'Guyancourt', 'Voisins-le-Bretonneux', 'Montigny-le-Bretonneux', 'Bois-d’Arcy', 'Fontenay-le-Fleury', 'Saint-Cyr-l’École', 'Trappes', 'Élancourt', 'Maurepas', 'Plaisir', 'Neauphle-le-Château', 'Vernouillet', 'Verneuil-sur-Seine', 'Menucourt', 'Limay', 'Mantes-la-Jolie', 'Mantes-la-Ville', 'Magnanville', 'Évreux', 'Caudebec-lès-Elbeuf', 'Saint-Aubin-lès-Elbeuf', 'Saint-Étienne-du-Rouvray', 'Sotteville-lès-Rouen', 'Rouen', 'Mont-Saint-Aignan', 'Bois-Guillaume', 'Bihorel', 'Bonsecours', 'Darnétal', 'Déville-lès-Rouen', 'Maromme', 'Yvetot', 'Dieppe', 'Neuville-lès-Dieppe', 'Outreau', 'Boulogne-sur-Mer', 'Calais', 'Grand-Fort-Philippe', 'Fort-Mardyck', 'Saint-Pol-sur-Mer', 'Petite-Synthe', 'Cappelle-la-Grande', 'Coudekerque-Branche', 'Dunkerque', 'Rosendaël', 'Bergues', 'Auchel', 'Béthune', 'Bully-les-Mines', 'Grenay', 'Liévin', 'Éleu-dit-Leauwette', 'Lens', 'Loison-sous-Lens', 'Sallaumines', 'Noyelles-sous-Lens', 'Méricourt', 'Fouquières-lès-Lens', 'Montigny-en-Gohelle', 'Billy-Montigny', 'Pont-à-Vendin', 'Wingles', 'Oignies', 'Courcelles-les-Lens', 'Douai', 'Waziers', 'Courchelettes', 'Aniche', 'Lourches', 'Denain', 'Anzin', 'Beuvrages', 'Valenciennes', 'Marly', 'Bruay-sur-l’Escaut', 'Cambrai', 'Neuville-Saint-Rémy', 'Saint-Quentin', 'Soissons', 'Crégy-lès-Meaux', 'Meaux', 'Esbly', 'Magny-le-Hongre', 'Serris', 'Montévrain', 'Thorigny-sur-Marne', 'Bussy-Saint-Georges', 'Torcy', 'Vaires-sur-Marne', 'Noisiel', 'Lognes', 'Champs-Sur-Marne', 'Gournay-sur-Marne', 'Noisy-le-Grand', 'Neuilly-sur-Marne', 'Villiers-sur-Marne', 'Bry-sur-Marne', 'Champigny-sur-Marne', 'Saint-Maur-des-Fossés', 'Bonneuil-sur-Marne', 'Limeil-Brévannes', 'Valenton', 'Villeneuve-Saint-Georges', 'Crosne', 'Montgeron', 'Yerres', 'Brunoy', 'Épinay-sous-Sénart', 'Boussy-Saint-Antoine', 'Mandres-les-Roses', 'Villecresnes', 'Boissy-Saint-Léger', 'Sucy-en-Brie', 'Ormesson-sur-Marne', 'Chennevières-sur-Marne', 'Nogent-sur-Marne', 'Fontenay-sous-Bois', 'Rosny-sous-Bois', 'Villemomble', 'Neuilly-Plaisance', 'Gagny', 'Clichy-sous-Bois', 'Montfermeil', 'Vaujours', 'Sevran', 'Livry-Gargan', 'Villepinte', 'Aulnay-sous-Bois', 'Bondy', 'Noisy-le-Sec', 'Romainville', 'Bagnolet', 'Montreuil', 'Vincennes', 'Saint-Mandé', 'Charenton-le-Pont', 'Alfortville', 'Maisons-Alfort', 'Saint-Maurice', 'Joinville-le-Pont', 'Créteil', 'Choisy-le-Roi', 'Thiais', 'Orly', 'Villeneuve-le-Roi', 'Ablon-sur-Seine', 'Vigneux-sur-Seine', 'Draveil', 'Athis-Mons', 'Juvisy-sur-Orge', 'Viry-Châtillon', 'Grigny', 'Ris-Orangis', 'Courcouronnes', 'Évry', 'Bondoufle', 'Fleury-Mérogis', 'Sainte-Geneviève-des-Bois', 'Morsang-sur-Orge', 'Villemoisson-sur-Orge', 'Épinay-sur-Orge', 'Savigny-sur-Orge', 'Morangis', 'Chilly-Mazarin', 'Longjumeau', 'Villiers-sur-Orge', 'Saint-Michel-sur-Orge', 'Brétigny-sur-Orge', 'Leuville-sur-Orge', 'Montlhéry', 'Saint-Germain-lès-Arpajon', 'Arpajon', 'Égly', 'Antony', 'Fresnes', 'Bourg-la-Reine', 'Bagneux', 'Cachan', 'L’Haÿ-les-Roses', 'Chevilly-Larue', 'Villejuif', 'Ivry-sur-Seine', 'Vitry-sur-Seine', 'Gentilly', 'Arcueil', 'Montrouge', 'Bobigny', 'Drancy', 'Goussainville', 'Fosses', 'Creil', 'Nogent-sur-Oise', 'Liancourt', 'Clermont', 'Persan', 'Beaumont-sur-Oise', 'Beauvais', 'Amiens', 'Longueau', 'Arras', 'Saint-Nicolas', 'Haubourdin', 'Loos', 'Lomme', 'Lambersart', 'Saint-André', 'Marquette-lès-Lille', 'Marcq-en-Baroeul', 'Wasquehal', 'Croix', 'Mouvaux', 'Tourcoing', 'Neuville-en-Ferrain', 'Halluin', 'Roubaix', 'Hem', 'Lys-lès-Lannoy', 'Toufflers', 'Leers', 'Wattrelos', 'Ascq', 'Flers-lez-Lille', 'Mons-en-Baroeul', 'Hellemmes-Lille', 'Ronchin', 'Fâches-Thumesnil', 'Lille', 'Wattignies', 'Pérenchies', 'Armentières', 'Maubeuge', 'Avesnes-sur-Helpe', 'Charleville-Mézières', 'Reims', 'Tinqueux', 'Châlons-en-Champagne', 'Vitry-le-François', 'Troyes', 'Saint-André-les-Vergers', 'Montereau-faut-Yonne', 'Saint-Mammès', 'Avon', 'Dammarie-lè-Lys', 'Melun', 'Cesson', 'Savigny-le-Temple', 'Combs-la-Ville', 'Quincy-sous-Sénart', 'Saint-Germain-lès-Corbeil', 'Corbeil-Essonnes', 'Saintry-sur-Seine', 'Roissy-en-Brie', 'Chelles', 'Courtry', 'Villeparisis', 'Montargis', 'Saint-Jean-de-Braye', 'Fleury-les-Aubrais', 'Orléans', 'Saint-Jean-de-la-Ruelle', 'Luisant', 'Lucé', 'Chartres', 'Tours', 'Coulaines', 'Alençon', 'Lisieux', 'Harfleur', 'Rouelles', 'Sainte-Adresse', 'Hérouville-Saint-Clair', 'Caen', 'Bayeux', 'Avranches', 'Fougères', 'Laval', 'Angers', 'Montaigu', 'Saint-Sébastien-sur-Loire', 'Nantes', 'Rezé', 'Saint-Herblain', 'Paimbœuf', 'Saint-Nazaire', 'Vannes', 'Auray', 'Port-Louis', 'Lorient', 'Guingamp', 'Saint-Brieuc', 'Dinan', 'Rennes', 'Octeville', 'Cherbourg', 'Brest', 'Arcachon', 'Mérignac', 'Pessac', 'Gradignan', 'Talence', 'Villenave-d’Ornon', 'Bègles', 'Floirac', 'Cenon', 'Lormont', 'Carbon-Blanc', 'Bordeaux', 'Eysines', 'Sainte-Foy-la-Grande', 'Périgueux', 'Angoulême', 'Poitiers', 'Limoges', 'Châteauroux', 'Montluçon', 'Chamalières', 'Clermont-Ferrand', 'Beaumont', 'Vichy', 'Moulins', 'Nevers', 'Roanne', 'L’Arbresle', 'Craponne', 'Francheville', 'Tassin-la-Demi-Lune', 'Écully', 'Champagne-au-Mont-d’Or', 'Caluire-et-Cuire', 'Lyon', 'Villeurbanne', 'Vaulx-en-Velin', 'Bron', 'Vénissieux', 'Saint-Fons', 'Pierre-Bénite', 'Oullins', 'Sainte-Foy-lès-Lyon', 'Saint-Genis-Laval', 'Grigny', 'Saint-Priest', 'Décines-Charpieu', 'Meyzieu', 'Rillieux-la-Pape', 'Sathonay-Camp', 'Fontaines-sur-Saône', 'Villefranche-sur-Saône', 'Rive-de-Gier', 'Terrenoire', 'Saint-Étienne', 'Saint-Priest-en-Jarez', 'Firminy', 'Valence', 'Villefontaine', 'L’Isle-d’Abeau', 'Pont-de-Chéruy', 'Bourg-en-Bresse', 'Lons-le-Saunier', 'Saint-Genis-Pouilly', 'Ferney-Voltaire', 'Saint-Julien-en-Genevois', 'Gaillard', 'Ambilly', 'Annemasse', 'Ville-la-Grand', 'Thonon-les-Bains', 'Évian-les-Bains', 'Cluses', 'Annecy', 'Cran-Gévrier', 'Meythet', 'Aix-les-Bains', 'Bassens', 'Chambéry', 'Jacob-Bellecombette', 'Cognin', 'Barby', 'Meylan', 'Saint-Martin-d’Hères', 'Eybens', 'Échirolles', 'Grenoble', 'Fontaine', 'Saint-Égrève', 'Aix-en-Provence', 'Marseille', 'Carnoux-en-Provence', 'Toulon', 'Cannes', 'Vallauris', 'Antibes', 'Cagnes-sur-Mer', 'Saint-Laurent-du-Var', 'Nice', 'Saint-André-de-la-Roche', 'Beaulieu-sur-Mer', 'Cap-d’Ail', 'Beausoleil', 'Menton', 'Ajaccio', 'Bastia', 'Nîmes', 'Alès', 'Jacou', 'Castelnau-le-Lez', 'Montpellier', 'Pérols', 'Palavas-les-Flots', 'Sète', 'Valras-Plage', 'Perpignan', 'Castanet-Tolosan', 'Ramonville-Saint-Agne', 'Toulouse', 'Blagnac', 'Beauzelle', 'Saint-Alban', 'Aucamville', 'L’Union', 'Saint-Jean', 'Colomiers', 'Tournefeuille', 'Cugnaux', 'Villeneuve-Tolosane', 'Agen', 'Tarbes', 'Pau', 'Billère', 'Bayonne', 'Boucau', 'Anglet', 'Biarritz', 'Hendaye', 'Rodez', 'Chalon-sur-Saône', 'Chenôve', 'Dijon', 'Talant', 'Fontaine-lès-Dijon', 'Besançon', 'Vesoul', 'Montbéliard', 'Sochaux', 'Audincourt', 'Belfort', 'Pfastatt', 'Mulhouse', 'Riedisheim', 'Illzach', 'Kingersheim', 'Huningue', 'Ostwald', 'Lingolsheim', 'Oberhausbergen', 'Souffelweyersheim', 'Hœnheim', 'Bischheim', 'Schiltigheim', 'Strasbourg', 'Stiring-Wendel', 'Talange', 'Hagondange', 'Terville', 'Nilvange', 'Jœuf', 'Longeville-lès-Metz', 'Montigny-lès-Metz', 'Metz', 'Maxéville', 'Nancy', 'Saint-Max', 'Essey-lès-Nancy', 'Tomblaine', 'Jarville-la-Malgrange', 'Heillecourt', 'Vandœuvre-lès-Nancy', 'Villers-lès-Nancy', 'Neuves-Maisons', 'Villerupt', 'Longwy']\n",
      "Distance totale: 108.6 km\n"
     ]
    }
   ],
   "source": [
    "# Affichage et analyse\n",
    "print(f\"Nombre total de villes: {len(villes)}\")\n",
    "print(f\"Itinéraire trouvé: {[ville[0] for ville in villes_itineraire]}\")\n",
    "print(f\"Distance totale: {round(distance_totale(villes_itineraire),1)} km\")"
   ]
  },
  {
   "cell_type": "markdown",
   "id": "194c60df",
   "metadata": {},
   "source": [
    "Cette approche heuristique n'est pas optimale car \n",
    "- elle ne garantit pas de trouver la solution optimale, il est possible de \"tourner en boucle\" si les villes de départ sont très proches les unes des autres \n",
    "- cette méthode peut être très coûteuse en temps de calcul car on doit calculer la distance entre chaque paire de villes à chaque étape"
   ]
  }
 ],
 "metadata": {
  "kernelspec": {
   "display_name": "Python",
   "language": "python",
   "name": "python3"
  },
  "language_info": {
   "codemirror_mode": {
    "name": "ipython",
    "version": 3
   },
   "file_extension": ".py",
   "mimetype": "text/x-python",
   "name": "python",
   "nbconvert_exporter": "python",
   "pygments_lexer": "ipython3",
   "version": "3.13.7"
  }
 },
 "nbformat": 4,
 "nbformat_minor": 5
}
