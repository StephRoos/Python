{
 "cells": [
  {
   "cell_type": "markdown",
   "metadata": {},
   "source": [
    "# Projet d'analyse et manipulation d'un fichier JSON d'individus\n",
    "\n",
    "Ce notebook contient toutes les tâches demandées pour le projet de fin de cours. Chaque tâche est à implémenter dans une cellule distincte. Les docstrings sont en français pour plus de clarté.\n",
    "\n",
    "Il faut utiliser les modules suivants : `math`, `datetime`, `os`, `glob`, `string`, `random`, `csv`, `json`."
   ]
  },
  {
   "cell_type": "code",
   "execution_count": 38,
   "metadata": {},
   "outputs": [],
   "source": [
    "# Importation des modules\n",
    "import json\n",
    "import csv\n",
    "import os\n",
    "import glob\n",
    "import random"
   ]
  },
  {
   "cell_type": "markdown",
   "metadata": {},
   "source": [
    "---\n",
    "\n",
    "## Tâche 1 : Chargement des données\n",
    "\n",
    "Nous allons créer une fonction qui charge le fichier `individus.json` (il se situe dans le dossier fichiers_projet) et retourne les données sous forme de liste de dictionnaires. Nous vérifierons également que le fichier existe."
   ]
  },
  {
   "cell_type": "markdown",
   "metadata": {},
   "source": [
    "On créera également une fonction `save_to_json` qui prendre en paramètre les données et le nom du fichier et les sauvegardera dans un fichier JSON."
   ]
  },
  {
   "cell_type": "code",
   "execution_count": 39,
   "metadata": {},
   "outputs": [
    {
     "name": "stdout",
     "output_type": "stream",
     "text": [
      "Données chargées avec succès. Nombre d'individus : 50\n"
     ]
    }
   ],
   "source": [
    "def load_json(filename):\n",
    "    \"\"\"\n",
    "    Charge un fichier JSON et retourne son contenu.\n",
    "\n",
    "    Args:\n",
    "        filename (str): Nom du fichier JSON.\n",
    "\n",
    "    Returns:\n",
    "        list ou dict: Contenu du fichier JSON, ou None si le fichier n'existe pas.\n",
    "    \"\"\"\n",
    "    # TODO: Implémenter la fonction pour charger un fichier JSON\n",
    "    with open(filename, 'r', encoding='utf-8') as file:\n",
    "        return json.load(file)\n",
    "\n",
    "# Charger les données initiales\n",
    "individus = load_json(\"fichiers_projet/individus.json\")\n",
    "if individus is not None:\n",
    "    print(f\"Données chargées avec succès. Nombre d'individus : {len(individus)}\")"
   ]
  },
  {
   "cell_type": "code",
   "execution_count": 40,
   "metadata": {},
   "outputs": [],
   "source": [
    "def save_to_json(data, filename):\n",
    "    \"\"\"\n",
    "    Sauvegarde une structure de données dans un fichier JSON.\n",
    "\n",
    "    Args:\n",
    "        data: Données à sauvegarder (list, dict, etc.).\n",
    "        filename (str): Nom du fichier JSON.\n",
    "    \"\"\"\n",
    "    # TODO: Implémenter la fonction pour sauvegarder un fichier JSON\n",
    "    with open(filename, 'w', encoding='utf-8') as file:\n",
    "        json.dump(data, file, ensure_ascii=False, indent=4)"
   ]
  },
  {
   "cell_type": "markdown",
   "metadata": {},
   "source": [
    "---\n",
    "\n",
    "## Tâche 2 : Ajout du champ \"taille\"\n",
    "\n",
    "Nous allons ajouter un champ `taille` (en mètres) à chaque individu, généré aléatoirement entre 1.50 et 2.00. Les données mises à jour seront sauvegardées dans un nouveau fichier JSON."
   ]
  },
  {
   "cell_type": "code",
   "execution_count": 41,
   "metadata": {},
   "outputs": [
    {
     "name": "stdout",
     "output_type": "stream",
     "text": [
      "Champ 'taille' ajouté et sauvegardé dans 'individus_with_taille.json'.\n"
     ]
    }
   ],
   "source": [
    "def add_taille(individus):\n",
    "    \"\"\"\n",
    "    Ajoute un champ 'taille' à chaque individu avec une valeur aléatoire.\n",
    "\n",
    "    Args:\n",
    "        individus (list): Liste de dictionnaires représentant les individus.\n",
    "\n",
    "    Returns:\n",
    "        list: Liste mise à jour avec le champ 'taille'.\n",
    "    \"\"\"\n",
    "    # TODO: Implémenter la fonction pour ajouter le champ 'taille'\n",
    "    random.seed(0)  # Pour la reproductibilité\n",
    "    for individu in individus:\n",
    "        individu['taille'] = round(random.uniform(1.50, 2.00), 2)  # Taille en mètres\n",
    "    return individus\n",
    "\n",
    "\n",
    "# Ajouter le champ taille et sauvegarder\n",
    "individus_with_taille = add_taille(individus)\n",
    "save_to_json(individus_with_taille, \"fichiers_projet/individus_with_taille.json\")\n",
    "print(\"Champ 'taille' ajouté et sauvegardé dans 'individus_with_taille.json'.\")"
   ]
  },
  {
   "cell_type": "markdown",
   "metadata": {},
   "source": [
    "---\n",
    "\n",
    "## Tâche 3 : Ajout du champ \"IMC\"\n",
    "\n",
    "Nous allons calculer l'IMC pour chaque individu à l'aide de la formule : IMC = poids / (taille * taille). Le résultat sera arrondi à 2 décimales et ajouté comme champ `imc`. Les données mises à jour seront sauvegardées dans un nouveau fichier JSON."
   ]
  },
  {
   "cell_type": "code",
   "execution_count": 42,
   "metadata": {},
   "outputs": [
    {
     "name": "stdout",
     "output_type": "stream",
     "text": [
      "Champ 'imc' ajouté et sauvegardé dans 'individus_with_imc.json'.\n"
     ]
    }
   ],
   "source": [
    "# Ajout du champ \"IMC\"\n",
    "\n",
    "def calculate_imc(poids, taille):\n",
    "    \"\"\"\n",
    "    Calcule l'IMC à partir du poids et de la taille.\n",
    "\n",
    "    Args:\n",
    "        poids (float): Poids en kilogrammes.\n",
    "        taille (float): Taille en mètres.\n",
    "\n",
    "    Returns:\n",
    "        float: IMC arrondi à 2 décimales.\n",
    "    \"\"\"\n",
    "    # TODO : Implémenter la fonction pour calculer l'IMC\n",
    "    imc = poids / (taille ** 2)\n",
    "    return round(imc, 2)\n",
    "\n",
    "\n",
    "def add_imc(individus):\n",
    "    \"\"\"\n",
    "    Ajoute un champ 'imc' à chaque individu.\n",
    "\n",
    "    Args:\n",
    "        individus (list): Liste de dictionnaires représentant les individus.\n",
    "\n",
    "    Returns:\n",
    "        list: Liste mise à jour avec le champ 'imc'.\n",
    "    \"\"\"\n",
    "    # TODO : Implémenter la fonction pour ajouter le champ 'imc'\n",
    "    for individu in individus:\n",
    "        poids = individu.get('poids')\n",
    "        taille = individu.get('taille')\n",
    "        individu['imc'] = calculate_imc(poids, taille)\n",
    "    return individus\n",
    "\n",
    "\n",
    "# Ajouter le champ IMC et sauvegarder\n",
    "individus_with_imc = add_imc(individus_with_taille)\n",
    "save_to_json(individus_with_imc, \"fichiers_projet/individus_with_imc.json\")\n",
    "print(\"Champ 'imc' ajouté et sauvegardé dans 'individus_with_imc.json'.\")"
   ]
  },
  {
   "cell_type": "markdown",
   "metadata": {},
   "source": [
    "---\n",
    "\n",
    "## Tâche 4 : Ajout du champ \"pays de naissance\"\n",
    "\n",
    "Nous allons créer un dictionnaire associant chaque ville de naissance à un pays, puis ajouter un champ `pays_naissance` à chaque individu. Si une ville n'est pas dans le dictionnaire, le pays sera \"Inconnu\". Les données mises à jour seront sauvegardées dans un nouveau fichier JSON."
   ]
  },
  {
   "cell_type": "code",
   "execution_count": 43,
   "metadata": {},
   "outputs": [
    {
     "name": "stdout",
     "output_type": "stream",
     "text": [
      "{'Lisbonne', 'Rio', 'Sydney', 'Berlin', 'Moscou', 'Paris', 'New York', 'Londres', 'Tokyo'}\n"
     ]
    }
   ],
   "source": [
    "liste_villes = []\n",
    "\n",
    "for individu in individus:\n",
    "    ville = individu.get('ville_naissance')\n",
    "    liste_villes.append(ville)\n",
    "liste_villes = set(liste_villes)\n",
    "print(liste_villes)"
   ]
  },
  {
   "cell_type": "code",
   "execution_count": 44,
   "metadata": {},
   "outputs": [
    {
     "name": "stdout",
     "output_type": "stream",
     "text": [
      "Champ 'pays_naissance' ajouté et sauvegardé dans 'individus_with_pays.json'.\n"
     ]
    }
   ],
   "source": [
    "def add_pays_naissance(individus):\n",
    "    \"\"\"\n",
    "    Ajoute un champ 'pays_naissance' à chaque individu en fonction de la ville de naissance.\n",
    "\n",
    "    Args:\n",
    "        individus (list): Liste de dictionnaires représentant les individus.\n",
    "\n",
    "    Returns:\n",
    "        list: Liste mise à jour avec le champ 'pays_naissance'.\n",
    "    \"\"\"\n",
    "    # TODO  : Implémenter la fonction pour ajouter le champ 'pays_naissance'\n",
    "    \n",
    "    ville_to_pays = {\n",
    "    \"Moscou\": \"Russie\",\n",
    "    \"Berlin\": \"Allemagne\",\n",
    "    \"New York\": \"États-Unis\",\n",
    "    \"Paris\": \"France\",\n",
    "    \"Londres\": \"Grande-Bretagne\",\n",
    "    \"Rio\": \"Brésil\",\n",
    "    \"Tokyo\": \"Japon\",\n",
    "    \"Sydney\": \"Australie\",\n",
    "    \"Lisbonne\": \"Portugal\"\n",
    "    }\n",
    "    for individu in individus:\n",
    "        ville = individu.get('ville_naissance')\n",
    "        individu['pays_naissance'] = ville_to_pays.get(ville, \"Inconnu\")\n",
    "    \n",
    "    return individus\n",
    "\n",
    "# Ajouter le champ pays_naissance et sauvegarder\n",
    "individus_with_pays = add_pays_naissance(individus_with_imc)\n",
    "save_to_json(individus_with_pays, \"fichiers_projet/individus_with_pays.json\")\n",
    "print(\"Champ 'pays_naissance' ajouté et sauvegardé dans 'individus_with_pays.json'.\")"
   ]
  },
  {
   "cell_type": "markdown",
   "metadata": {},
   "source": [
    "---\n",
    "\n",
    "## Tâche 5 : Analyse des âges\n",
    "\n",
    "Nous allons calculer et afficher des statistiques sur les âges (moyen, minimum, maximum, nombre de personnes de plus de 50 ans). Les résultats seront sauvegardés dans un fichier JSON."
   ]
  },
  {
   "cell_type": "code",
   "execution_count": 45,
   "metadata": {},
   "outputs": [
    {
     "name": "stdout",
     "output_type": "stream",
     "text": [
      "Statistiques sur les âges :\n",
      "- Moyen : 46.48\n",
      "- Min : 21\n",
      "- Max : 77\n",
      "- Sup50 : 19\n",
      "Statistiques sauvegardées dans 'stats_ages.json'.\n"
     ]
    }
   ],
   "source": [
    "# Analyse des âges\n",
    "import statistics\n",
    "\n",
    "def analyze_ages(individus):\n",
    "    \"\"\"\n",
    "    Calcule des statistiques sur les âges des individus.\n",
    "\n",
    "    Args:\n",
    "        individus (list): Liste de dictionnaires représentant les individus.\n",
    "\n",
    "    Returns:\n",
    "        dict: Dictionnaire contenant les statistiques sur les âges.\n",
    "    \"\"\"\n",
    "    # TODO\n",
    "    \n",
    "    if not individus:\n",
    "        return {\"moyen\": None, \"min\": None, \"max\": None, \"sup50\": 0}\n",
    "\n",
    "    ages = [individu.get(\"age\") for individu in individus]\n",
    "\n",
    "    stats_ages = {\n",
    "        \"moyen\": statistics.mean(ages),\n",
    "        \"min\": min(ages),\n",
    "        \"max\": max(ages),\n",
    "        \"sup50\": sum(1 for age in ages if age >= 50)\n",
    "    }\n",
    "\n",
    "    return stats_ages\n",
    "    \n",
    "\n",
    "# Analyser les âges et afficher les résultats\n",
    "stats_ages = analyze_ages(individus_with_pays)\n",
    "print(\"Statistiques sur les âges :\")\n",
    "for key, value in stats_ages.items():\n",
    "    print(f\"- {key.replace('_', ' ').capitalize()} : {value}\")\n",
    "\n",
    "# Sauvegarder les statistiques\n",
    "save_to_json(stats_ages, \"fichiers_projet/stats_ages.json\")\n",
    "print(\"Statistiques sauvegardées dans 'stats_ages.json'.\")"
   ]
  },
  {
   "cell_type": "markdown",
   "metadata": {},
   "source": [
    "---\n",
    "\n",
    "## Tâche 6 : Analyse des IMC\n",
    "\n",
    "Nous allons identifier et afficher le nombre d'individus dans différentes catégories d'IMC (maigreur, poids normal, surpoids). Les résultats seront sauvegardés dans un fichier JSON."
   ]
  },
  {
   "cell_type": "code",
   "execution_count": 46,
   "metadata": {},
   "outputs": [
    {
     "name": "stdout",
     "output_type": "stream",
     "text": [
      "Statistiques sur les IMC : \n",
      "- Nb maigreur : 19\n",
      "- Nb poids normal : 19\n",
      "- Nb surpoids : 19\n"
     ]
    }
   ],
   "source": [
    "def analyze_imc(individus):\n",
    "    \"\"\"\n",
    "    Calcule des statistiques sur les IMC des individus.\n",
    "\n",
    "    Args:\n",
    "        individus (list): Liste de dictionnaires représentant les individus.\n",
    "\n",
    "    Returns:\n",
    "        dict: Dictionnaire contenant les statistiques sur les IMC.\n",
    "    \"\"\"\n",
    "    imc_maigreur = len([individu for individu in individus if individu[\"imc\"] < 18.5])\n",
    "    imc_normal = len([individu for individu in individus if 18.5 <= individu[\"imc\"] <= 25])\n",
    "    imc_surpoids = len([individu for individu in individus if individu[\"imc\"] > 25])\n",
    "    \n",
    "    stats_imc = {\n",
    "        \"nb_maigreur\" : imc_maigreur,\n",
    "        \"nb_poids_normal\" : imc_normal,\n",
    "        \"nb_surpoids\" : imc_surpoids\n",
    "    }\n",
    "    return stats_imc\n",
    "\n",
    "# Analyser les IMC et afficher les résultats\n",
    "stats_imc = analyze_imc(individus_with_pays)\n",
    "print(\"Statistiques sur les IMC : \")\n",
    "for key, values in stats_imc.items():\n",
    "    print(f\"- {key.replace('_', ' ').capitalize()} : {value}\")\n",
    "\n",
    "# Sauvegarder les statistiques\n",
    "save_to_json(stats_imc, \"fichiers_projet/stats_imc.json\")"
   ]
  },
  {
   "cell_type": "markdown",
   "metadata": {},
   "source": [
    "---\n",
    "\n",
    "## Tâche 7 : Sélection aléatoire\n",
    "\n",
    "Nous allons sélectionner aléatoirement 3 individus ayant un IMC inférieur à 18.5, afficher leurs informations, et les sauvegarder dans un fichier JSON."
   ]
  },
  {
   "cell_type": "code",
   "execution_count": 47,
   "metadata": {},
   "outputs": [
    {
     "name": "stdout",
     "output_type": "stream",
     "text": [
      "Individus sélectionnés avec un IMC < 18.5\n",
      "1. Jean Durand - Âge : 45 - IMC : 13.21\n",
      "2. Claire Dupont - Âge : 55 - IMC : 16.47\n",
      "3. Jean Moreau - Âge : 47 - IMC : 16.01\n"
     ]
    }
   ],
   "source": [
    "# Sélection aléatoire\n",
    "\n",
    "def select_random_sous_poids(individus, nb=3):\n",
    "    \"\"\"\n",
    "    Sélectionne aléatoirement un certain nombre d'individus ayant un IMC < 18.5.\n",
    "\n",
    "    Args:\n",
    "        individus (list): Liste de dictionnaires représentant les individus.\n",
    "        nb (int): Nombre d'individus à sélectionner (par défaut 3).\n",
    "\n",
    "    Returns:\n",
    "        list: Liste des individus sélectionnés.\n",
    "    \"\"\"\n",
    "    imc_maigreur = [individu for individu in individus if individu[\"imc\"] < 18.5]\n",
    "    if len(imc_maigreur) < nb :\n",
    "        print (f\"attention seulement {len(imc_maigreur)} individus avec IMC < 18.5 \")\n",
    "        return imc_maigreur\n",
    "    return random.sample(imc_maigreur, nb)\n",
    "        \n",
    "\n",
    "\n",
    "# Sélectionner et afficher les individus\n",
    "individus_maigreur = select_random_sous_poids(individus_with_pays)\n",
    "print(\"Individus sélectionnés avec un IMC < 18.5\")\n",
    "for i, individu in enumerate(individus_maigreur, 1):\n",
    "    print(f\"{i}. {individu[\"prenom\"]} {individu[\"nom\"]} - Âge : {individu[\"age\"]} - IMC : {individu[\"imc\"]}\")\n",
    "\n",
    "# Sauvegarder les individus sélectionnés\n",
    "save_to_json(individus_maigreur, \"fichiers_projet/individus_maigreur.json\")"
   ]
  },
  {
   "cell_type": "markdown",
   "metadata": {},
   "source": [
    "---\n",
    "\n",
    "## Tâche 8 : Exportation en CSV\n",
    "\n",
    "Nous allons exporter les données complètes (avec tous les champs ajoutés) dans un fichier CSV."
   ]
  },
  {
   "cell_type": "code",
   "execution_count": 48,
   "metadata": {},
   "outputs": [
    {
     "name": "stdout",
     "output_type": "stream",
     "text": [
      "Données exportées dans 'individus_complets.csv'.\n"
     ]
    }
   ],
   "source": [
    "def export_to_csv(individus, filename):\n",
    "    \"\"\"\n",
    "    Exporte les données des individus dans un fichier CSV.\n",
    "\n",
    "    Args:\n",
    "        individus (list): Liste de dictionnaires représentant les individus.\n",
    "        filename (str): Nom du fichier CSV.\n",
    "    \"\"\"\n",
    "    # TODO : Implémenter la fonction pour exporter les données en CSV\n",
    "    if not individus:\n",
    "        print(\"Aucun individu à exporter.\")\n",
    "        return\n",
    "\n",
    "    headers = individus[0].keys()\n",
    "    with open(filename, 'w', newline='', encoding='utf-8') as csvfile:\n",
    "        writer = csv.DictWriter(csvfile, fieldnames=headers)\n",
    "        writer.writeheader()\n",
    "        writer.writerows(individus)\n",
    "\n",
    "# Exporter les données complètes\n",
    "export_to_csv(individus_with_pays, \"fichiers_projet/individus_complets.csv\")\n",
    "print(\"Données exportées dans 'individus_complets.csv'.\")"
   ]
  },
  {
   "cell_type": "markdown",
   "metadata": {},
   "source": [
    "---\n",
    "\n",
    "## Tâche 9 : Recherche par pays \n",
    "\n",
    "Nous allons rechercher automatiquement les individus pour une liste prédéfinie de pays (par exemple, \"France\", \"Portugal\", \"Inconnu\"). Les résultats seront affichés et sauvegardés dans des fichiers JSON nommés dynamiquement (ex. : `individus_par_pays_France.json`)."
   ]
  },
  {
   "cell_type": "code",
   "execution_count": 49,
   "metadata": {},
   "outputs": [
    {
     "name": "stdout",
     "output_type": "stream",
     "text": [
      "Recherche pour le pays France :\n",
      "- Pierre Fournier - Ville de naissance : Paris\n",
      "- Julie Martin - Ville de naissance : Paris\n",
      "\n",
      "Résultats sauvegardés dans 'fichiers_projet/individus_par_pays_France.json'.\n",
      "Recherche pour le pays Portugal :\n",
      "- Marie Durand - Ville de naissance : Lisbonne\n",
      "- Sophie Dupont - Ville de naissance : Lisbonne\n",
      "- Marie Durand - Ville de naissance : Lisbonne\n",
      "- Sophie Durand - Ville de naissance : Lisbonne\n",
      "- Luc Martin - Ville de naissance : Lisbonne\n",
      "- Jean Girard - Ville de naissance : Lisbonne\n",
      "- Marie Martin - Ville de naissance : Lisbonne\n",
      "- Marie Martin - Ville de naissance : Lisbonne\n",
      "- Jean Bernard - Ville de naissance : Lisbonne\n",
      "- Julie Girard - Ville de naissance : Lisbonne\n",
      "\n",
      "Résultats sauvegardés dans 'fichiers_projet/individus_par_pays_Portugal.json'.\n",
      "Recherche pour le pays Canada :\n",
      "Aucun individu trouvé.\n",
      "\n",
      "Résultats sauvegardés dans 'fichiers_projet/individus_par_pays_Canada.json'.\n"
     ]
    }
   ],
   "source": [
    "# Recherche par pays (sans input)\n",
    "\n",
    "def search_by_country(individus, pays_list):\n",
    "    \"\"\"\n",
    "    Recherche et affiche les individus nés dans une liste de pays donnée.\n",
    "\n",
    "    Args:\n",
    "        individus (list): Liste de dictionnaires représentant les individus.\n",
    "        pays_list (list): Liste des pays à rechercher.\n",
    "    \"\"\"\n",
    "    # TODO : Implémenter la fonction pour rechercher par pays\n",
    "    for pays in pays_list:\n",
    "        print(f\"Recherche pour le pays {pays} :\")\n",
    "        found = False\n",
    "        for individu in individus:\n",
    "            if individu.get(\"pays_naissance\") == pays:\n",
    "                print(f\"- {individu['prenom']} {individu['nom']} - Ville de naissance : {individu['ville_naissance']}\")\n",
    "                found = True\n",
    "        if not found:\n",
    "            print(\"Aucun individu trouvé.\")\n",
    "        print()  # Ligne vide pour séparer les pays\n",
    "        # sauveagarde des résultats dans un fichier json\n",
    "        filename = f\"fichiers_projet/individus_par_pays_{pays.replace(' ', '_')}.json\"\n",
    "        save_to_json([individu for individu in individus if individu.get(\"pays_naissance\") == pays], filename)\n",
    "        print(f\"Résultats sauvegardés dans '{filename}'.\")\n",
    "\n",
    "\n",
    "# Liste prédéfinie de pays à rechercher\n",
    "pays_a_rechercher = [\"France\", \"Portugal\", \"Canada\"]\n",
    "\n",
    "# Lancer la recherche\n",
    "search_by_country(individus_with_pays, pays_a_rechercher)"
   ]
  },
  {
   "cell_type": "markdown",
   "metadata": {},
   "source": [
    "---\n",
    "\n",
    "## Tâche 10 : Nettoyage des fichiers temporaires\n",
    "\n",
    "Nous allons supprimer automatiquement tous les fichiers JSON temporaires (sauf `individus.json`) sans demander de confirmation. Nous afficherons la liste des fichiers supprimés pour vérification."
   ]
  },
  {
   "cell_type": "code",
   "execution_count": 50,
   "metadata": {},
   "outputs": [
    {
     "name": "stdout",
     "output_type": "stream",
     "text": [
      "Fichier supprimé : fichiers_projet/individus_with_taille.json\n",
      "Fichier supprimé : fichiers_projet/stats_ages.json\n",
      "Fichier supprimé : fichiers_projet/individus_with_imc.json\n",
      "Fichier supprimé : fichiers_projet/individus_par_pays_Portugal.json\n",
      "Fichier supprimé : fichiers_projet/individus_par_pays_France.json\n",
      "Fichier supprimé : fichiers_projet/individus_with_pays.json\n",
      "Fichier supprimé : fichiers_projet/stats_imc.json\n",
      "Fichier supprimé : fichiers_projet/individus_par_pays_Canada.json\n",
      "Fichier supprimé : fichiers_projet/individus_maigreur.json\n"
     ]
    }
   ],
   "source": [
    "# Nettoyage des fichiers temporaires\n",
    "\n",
    "def clean_temp_files():\n",
    "    \"\"\"\n",
    "    Supprime automatiquement tous les fichiers JSON temporaires sauf 'individus.json'.\n",
    "    \"\"\"\n",
    "    # TODO : Implémenter la fonction pour nettoyer les fichiers temporaires\n",
    "    temp_files = glob.glob(\"fichiers_projet/*.json\")\n",
    "    for file in temp_files:\n",
    "        if not file.endswith(\"individus.json\"):\n",
    "            os.remove(file)\n",
    "            print(f\"Fichier supprimé : {file}\")\n",
    "\n",
    "\n",
    "# Lancer le nettoyage\n",
    "clean_temp_files()"
   ]
  }
 ],
 "metadata": {
  "kernelspec": {
   "display_name": "Python",
   "language": "python",
   "name": "python3"
  },
  "language_info": {
   "codemirror_mode": {
    "name": "ipython",
    "version": 3
   },
   "file_extension": ".py",
   "mimetype": "text/x-python",
   "name": "python",
   "nbconvert_exporter": "python",
   "pygments_lexer": "ipython3",
   "version": "3.13.7"
  }
 },
 "nbformat": 4,
 "nbformat_minor": 2
}
